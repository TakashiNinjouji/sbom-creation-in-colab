{
  "cells": [
    {
      "cell_type": "markdown",
      "metadata": {
        "id": "view-in-github",
        "colab_type": "text"
      },
      "source": [
        "<a href=\"https://colab.research.google.com/github/TakashiNinjouji/sbom-generate-on-colab/blob/main/sbom_generate.ipynb\" target=\"_parent\"><img src=\"https://colab.research.google.com/assets/colab-badge.svg\" alt=\"Open In Colab\"/></a>"
      ]
    },
    {
      "cell_type": "code",
      "execution_count": null,
      "metadata": {
        "id": "ds8IzuQxg0kB"
      },
      "outputs": [],
      "source": [
        "!echo $PATH"
      ]
    },
    {
      "cell_type": "code",
      "execution_count": null,
      "metadata": {
        "id": "pXcVYh3zhgjS"
      },
      "outputs": [],
      "source": [
        "#!curl -sSfL https://raw.githubusercontent.com/anchore/syft/main/install.sh | sh -s -- -b /usr/local/bin"
      ]
    },
    {
      "cell_type": "code",
      "execution_count": null,
      "metadata": {
        "id": "uEaap_coerpv"
      },
      "outputs": [],
      "source": [
        "#!syft --help"
      ]
    },
    {
      "cell_type": "code",
      "execution_count": null,
      "metadata": {
        "colab": {
          "base_uri": "https://localhost:8080/"
        },
        "id": "imtTKP5qfLSR",
        "outputId": "9b647dd3-208c-4686-dc75-5c685939d6f4"
      },
      "outputs": [
        {
          "output_type": "stream",
          "name": "stdout",
          "text": [
            "\u001b[?25l\u001b[6n"
          ]
        }
      ],
      "source": [
        "#!syft packages gcr.io/google.com/cloudsdktool/google-cloud-cli:alpine -o spdx-json \n",
        "!syft packages docker.io/alpine:latest -o spdx-json "
      ]
    },
    {
      "cell_type": "code",
      "source": [
        "!cat /etc/lsb-release; !uname -a"
      ],
      "metadata": {
        "colab": {
          "base_uri": "https://localhost:8080/"
        },
        "id": "t3PwZPVXHCN-",
        "outputId": "4570b2b7-b07a-43ae-9776-1842b526f977"
      },
      "execution_count": null,
      "outputs": [
        {
          "output_type": "stream",
          "name": "stdout",
          "text": [
            "DISTRIB_ID=Ubuntu\n",
            "DISTRIB_RELEASE=18.04\n",
            "DISTRIB_CODENAME=bionic\n",
            "DISTRIB_DESCRIPTION=\"Ubuntu 18.04.6 LTS\"\n"
          ]
        }
      ]
    },
    {
      "cell_type": "markdown",
      "source": [],
      "metadata": {
        "id": "cFaSohf8zLy5"
      }
    },
    {
      "cell_type": "code",
      "source": [
        "!apt update ; apt upgrade"
      ],
      "metadata": {
        "id": "RDvonS2Y3Cdu"
      },
      "execution_count": null,
      "outputs": []
    },
    {
      "cell_type": "code",
      "source": [
        "!apt install attr jq"
      ],
      "metadata": {
        "id": "lMV4a5t85fLj"
      },
      "execution_count": null,
      "outputs": []
    },
    {
      "cell_type": "code",
      "source": [
        "# wget用のスクリプトを組もうとしたけれど、やめる.,..\n",
        "#!echo \"PKG=\\\"golang-github-containers-image_5.10.3-1_all.deb golang-github-containers-common_0.33.4+ds1-1+deb11u1_all.deb skopeo_1.2.2+dfsg1-1+b6_amd64.deb\\\"\" >> preSkopeo.sh\n",
        "#!echo \"URL=\\\"http://ftp.jp.debian.org/debian/pool/main/g/\\\"\" >> preSkopeo.sh\n",
        "#!echo \"for p in \\$PKG\" >> preSkopeo.sh\n",
        "#!echo \"do\" >> preSkopeo.sh\n",
        "#!echo \"wget \\$URL\\\"\\$p\\\"\" >> preSkopeo.sh\n",
        "#!echo \"done\" >> preSkopeo.sh\n",
        "#--------------------\n",
        "#dlpath =  \"http://ftp.jp.debian.org/debian/pool/main/g/\"\n",
        "#pkg = [\"golang-github-containers-image_5.10.3-1_all.deb\", \"golang-github-containers-common_0.33.4+ds1-1+deb11u1_all.deb\", \"skopeo_1.2.2+dfsg1-1+b6_amd64.deb\"]\n",
        "#!for p in $pkg do wget $dlpath+\"$p\" && apt install \"./\"+\"$p\" && rm \"./\"+\"$p\" done"
      ],
      "metadata": {
        "id": "LbSRINDdsolA"
      },
      "execution_count": 66,
      "outputs": []
    },
    {
      "cell_type": "code",
      "source": [
        "!wget http://ftp.jp.debian.org/debian/pool/main/g/golang-github-containers-image/golang-github-containers-image_5.10.3-1_all.deb && apt install ./golang-github-containers-image_5.10.3-1_all.deb && rm ./golang-github-containers-image_5.10.3-1_all.deb"
      ],
      "metadata": {
        "id": "3FoymrTC3vJM"
      },
      "execution_count": null,
      "outputs": []
    },
    {
      "cell_type": "code",
      "source": [
        "!wget http://ftp.jp.debian.org/debian/pool/main/g/golang-github-containers-common/golang-github-containers-common_0.33.4+ds1-1+deb11u1_all.deb && apt install ./golang-github-containers-common_0.33.4+ds1-1+deb11u1_all.deb && ./golang-github-containers-common_0.33.4+ds1-1+deb11u1_all.deb"
      ],
      "metadata": {
        "id": "jF2WbBRZ3GyF"
      },
      "execution_count": null,
      "outputs": []
    },
    {
      "cell_type": "code",
      "source": [
        "!wget http://ftp.jp.debian.org/debian/pool/main/s/skopeo/skopeo_1.2.2+dfsg1-1+b6_amd64.deb && apt install ./skopeo_1.2.2+dfsg1-1+b6_amd64.deb && ./skopeo_1.2.2+dfsg1-1+b6_amd64.deb"
      ],
      "metadata": {
        "id": "6aVjxFyG0rTP"
      },
      "execution_count": null,
      "outputs": []
    },
    {
      "cell_type": "markdown",
      "source": [],
      "metadata": {
        "id": "hVlfREjQ35Yz"
      }
    },
    {
      "cell_type": "code",
      "execution_count": null,
      "metadata": {
        "id": "VZd69Xm0ojJy"
      },
      "outputs": [],
      "source": [
        "!pip install tern"
      ]
    },
    {
      "cell_type": "code",
      "source": [
        "# !tern report -o output.txt -i docker.io/debian:bullseye-slim"
      ],
      "metadata": {
        "id": "3QsYWTSft4_1"
      },
      "execution_count": null,
      "outputs": []
    },
    {
      "cell_type": "code",
      "source": [
        "!tern report -o tern_alpine-lates_output.txt -i docker.io/alpine:latest"
      ],
      "metadata": {
        "id": "CCfYOeDQ5iSp"
      },
      "execution_count": null,
      "outputs": []
    },
    {
      "cell_type": "code",
      "source": [
        "!tern report -f spdxjson -o tern_alpine-latest_spdx.json -i docker.io/alpine:latest"
      ],
      "metadata": {
        "id": "5SZuoQDZhrym"
      },
      "execution_count": null,
      "outputs": []
    },
    {
      "cell_type": "code",
      "source": [
        "!cat tern_alpine-latest_spdx.json | jq"
      ],
      "metadata": {
        "id": "pKx6KJekivO_"
      },
      "execution_count": null,
      "outputs": []
    },
    {
      "cell_type": "code",
      "source": [
        "import json\n",
        "import pandas as pd\n",
        "#df = pd.read_json('alpine-latest_spdx.json')\n",
        "with open(\"alpine-latest_spdx.json\",'r') as f:\n",
        "    spdxdata = json.loads(f.read())\n",
        "df = pd.json_normalize(spdxdata)\n",
        "print(df)"
      ],
      "metadata": {
        "id": "LAARPPfRkOlp"
      },
      "execution_count": null,
      "outputs": []
    },
    {
      "cell_type": "code",
      "source": [
        "!parser -help"
      ],
      "metadata": {
        "colab": {
          "base_uri": "https://localhost:8080/"
        },
        "id": "g3yXMsb1pHTa",
        "outputId": "86cc631d-a92c-4d67-95df-99f984058769"
      },
      "execution_count": 32,
      "outputs": [
        {
          "output_type": "stream",
          "name": "stdout",
          "text": [
            "/bin/bash: parser: command not found\n"
          ]
        }
      ]
    },
    {
      "cell_type": "code",
      "source": [],
      "metadata": {
        "id": "YKuYRu8Nq3oE"
      },
      "execution_count": null,
      "outputs": []
    }
  ],
  "metadata": {
    "colab": {
      "provenance": [],
      "mount_file_id": "1wESiVDyWOw70wnRPndxcnyTI6RsV0_9m",
      "authorship_tag": "ABX9TyMIMSggDb6kFX68pU7rEBWJ",
      "include_colab_link": true
    },
    "kernelspec": {
      "display_name": "Python 3",
      "name": "python3"
    },
    "language_info": {
      "name": "python"
    }
  },
  "nbformat": 4,
  "nbformat_minor": 0
}