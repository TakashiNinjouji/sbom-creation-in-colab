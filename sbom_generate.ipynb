{
  "cells": [
    {
      "cell_type": "markdown",
      "metadata": {
        "id": "view-in-github",
        "colab_type": "text"
      },
      "source": [
        "<a href=\"https://colab.research.google.com/github/TakashiNinjouji/sbom-generate-on-colab/blob/draft/sbom_generate.ipynb\" target=\"_parent\"><img src=\"https://colab.research.google.com/assets/colab-badge.svg\" alt=\"Open In Colab\"/></a>"
      ]
    },
    {
      "cell_type": "markdown",
      "source": [
        "# SBOM Generate on Google Colaboratory\n",
        "\n",
        "Try to see how the SBOM is generated and what it looks like.  \n",
        "In this article, we will use TERN to generate an SBOM for a container image.   \n",
        "You will need to manually install the relevant software, which will be explained step by step.\n",
        "  \n",
        "SBOMをどのように生成し、どのように見えるかを試してみましょう。  \n",
        "この記事では TERN を使って、コンテナイメージのSBOMを生成してみます。  \n",
        "いくつか関連するソフトウェアを手動でインストールする必要があるので、順番に沿って進めてください。"
      ],
      "metadata": {
        "id": "cFaSohf8zLy5"
      }
    },
    {
      "cell_type": "markdown",
      "source": [
        "## 準備\n",
        "\n",
        "TERN を利用するためにはいくつかのソフトウェアが必要です。  \n",
        "Colabの実行環境 (Ubuntu 18.04, amd64) では、attr と skopeo を追加しましょう。  \n",
        "またJSON形式の出力を見やすくするためにjqも追加します。 \n",
        "\n",
        "まず、apt コマンドで attr と jq をインストールします。 "
      ],
      "metadata": {
        "id": "d0Ahx2oNOhEe"
      }
    },
    {
      "cell_type": "code",
      "source": [
        "!apt update ; apt upgrade; apt install attr jq"
      ],
      "metadata": {
        "id": "RDvonS2Y3Cdu"
      },
      "execution_count": null,
      "outputs": []
    },
    {
      "cell_type": "markdown",
      "source": [
        "続いて、Skopeo をインストールします。  \n",
        "Skopeo は Ubuntu 18.04 の標準パッケージではないので、依存するソフトウェアを含めて手動でインストールします (1)。  \n",
        "TERNのお試し環境の構築を優先して、debian ディストリビューションのdebパッケージをインストールします (2)。  \n",
        "(1: 22.04 LTSでは標準パッケージに入っています)   \n",
        "(2: 関連するソフトウェアのバージョンの衝突を回避する手間を惜しみました...)   "
      ],
      "metadata": {
        "id": "U9Jrtw-RTcok"
      }
    },
    {
      "cell_type": "code",
      "source": [
        "!wget http://ftp.jp.debian.org/debian/pool/main/g/golang-github-containers-image/golang-github-containers-image_5.10.3-1_all.deb && apt install ./golang-github-containers-image_5.10.3-1_all.deb && rm ./golang-github-containers-image_5.10.3-1_all.deb"
      ],
      "metadata": {
        "id": "3FoymrTC3vJM"
      },
      "execution_count": null,
      "outputs": []
    },
    {
      "cell_type": "code",
      "source": [
        "!wget http://ftp.jp.debian.org/debian/pool/main/g/golang-github-containers-common/golang-github-containers-common_0.33.4+ds1-1+deb11u1_all.deb && apt install ./golang-github-containers-common_0.33.4+ds1-1+deb11u1_all.deb && rm ./golang-github-containers-common_0.33.4+ds1-1+deb11u1_all.deb"
      ],
      "metadata": {
        "id": "jF2WbBRZ3GyF"
      },
      "execution_count": null,
      "outputs": []
    },
    {
      "cell_type": "code",
      "source": [
        "!wget http://ftp.jp.debian.org/debian/pool/main/s/skopeo/skopeo_1.2.2+dfsg1-1+b6_amd64.deb && apt install ./skopeo_1.2.2+dfsg1-1+b6_amd64.deb && rm ./skopeo_1.2.2+dfsg1-1+b6_amd64.deb"
      ],
      "metadata": {
        "id": "6aVjxFyG0rTP"
      },
      "execution_count": null,
      "outputs": []
    },
    {
      "cell_type": "markdown",
      "source": [
        "それでは、TERN をインストールします。"
      ],
      "metadata": {
        "id": "CULUyz8lTip7"
      }
    },
    {
      "cell_type": "code",
      "execution_count": null,
      "metadata": {
        "id": "VZd69Xm0ojJy"
      },
      "outputs": [],
      "source": [
        "!pip install tern"
      ]
    },
    {
      "cell_type": "markdown",
      "source": [
        "以上で、準備が整いました。"
      ],
      "metadata": {
        "id": "_JqKMC1TTrA9"
      }
    },
    {
      "cell_type": "code",
      "source": [
        "!tern -v"
      ],
      "metadata": {
        "colab": {
          "base_uri": "https://localhost:8080/"
        },
        "id": "XEmszc3Agt4a",
        "outputId": "50052ff7-0132-4765-f60b-c58fbaad7bc4"
      },
      "execution_count": 115,
      "outputs": [
        {
          "output_type": "stream",
          "name": "stdout",
          "text": [
            "Tern version 2.10.1\n",
            "   python version = 3.7.15 (default, Oct 12 2022, 19:14:55) \n"
          ]
        }
      ]
    },
    {
      "cell_type": "markdown",
      "source": [
        "## TERN を使ってコンテナイメージから SBOM を生成する"
      ],
      "metadata": {
        "id": "hVlfREjQ35Yz"
      }
    },
    {
      "cell_type": "code",
      "source": [
        "!tern report -o tern_alpine-lates_output.txt -i docker.io/alpine:latest"
      ],
      "metadata": {
        "id": "CCfYOeDQ5iSp"
      },
      "execution_count": null,
      "outputs": []
    },
    {
      "cell_type": "code",
      "source": [
        "!tern report -f spdxtagvalue -o tern_alpine-latest_spdx-tv.txt -i docker.io/alpine:latest"
      ],
      "metadata": {
        "id": "5SZuoQDZhrym"
      },
      "execution_count": null,
      "outputs": []
    },
    {
      "cell_type": "code",
      "source": [
        "!tern report -f spdxjson -o tern_alpine-latest_spdx.json -i docker.io/alpine:latest"
      ],
      "metadata": {
        "id": "SZtyCPkGHcdC"
      },
      "execution_count": null,
      "outputs": []
    },
    {
      "cell_type": "code",
      "source": [
        "!cat tern_alpine-latest_spdx.json | jq"
      ],
      "metadata": {
        "id": "pKx6KJekivO_"
      },
      "execution_count": null,
      "outputs": []
    }
  ],
  "metadata": {
    "colab": {
      "provenance": [],
      "mount_file_id": "1wESiVDyWOw70wnRPndxcnyTI6RsV0_9m",
      "authorship_tag": "ABX9TyP1QD6cMLreE8g/1JgMIBa9",
      "include_colab_link": true
    },
    "kernelspec": {
      "display_name": "Python 3",
      "name": "python3"
    },
    "language_info": {
      "name": "python"
    }
  },
  "nbformat": 4,
  "nbformat_minor": 0
}