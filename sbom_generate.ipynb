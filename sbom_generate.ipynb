{
  "cells": [
    {
      "cell_type": "markdown",
      "metadata": {
        "id": "view-in-github",
        "colab_type": "text"
      },
      "source": [
        "<a href=\"https://colab.research.google.com/github/TakashiNinjouji/sbom-generate-on-colab/blob/draft/sbom_generate.ipynb\" target=\"_parent\"><img src=\"https://colab.research.google.com/assets/colab-badge.svg\" alt=\"Open In Colab\"/></a>"
      ]
    },
    {
      "cell_type": "code",
      "execution_count": null,
      "metadata": {
        "id": "ds8IzuQxg0kB"
      },
      "outputs": [],
      "source": [
        "!echo $PATH"
      ]
    },
    {
      "cell_type": "code",
      "source": [
        "!cat /etc/lsb-release; !uname -a"
      ],
      "metadata": {
        "id": "t3PwZPVXHCN-"
      },
      "execution_count": null,
      "outputs": []
    },
    {
      "cell_type": "markdown",
      "source": [],
      "metadata": {
        "id": "cFaSohf8zLy5"
      }
    },
    {
      "cell_type": "code",
      "source": [
        "!apt update ; apt upgrade"
      ],
      "metadata": {
        "id": "RDvonS2Y3Cdu"
      },
      "execution_count": null,
      "outputs": []
    },
    {
      "cell_type": "code",
      "source": [
        "!apt install attr jq"
      ],
      "metadata": {
        "id": "lMV4a5t85fLj"
      },
      "execution_count": null,
      "outputs": []
    },
    {
      "cell_type": "code",
      "source": [
        "!wget http://ftp.jp.debian.org/debian/pool/main/g/golang-github-containers-image/golang-github-containers-image_5.10.3-1_all.deb && apt install ./golang-github-containers-image_5.10.3-1_all.deb && rm ./golang-github-containers-image_5.10.3-1_all.deb"
      ],
      "metadata": {
        "id": "3FoymrTC3vJM"
      },
      "execution_count": null,
      "outputs": []
    },
    {
      "cell_type": "code",
      "source": [
        "!wget http://ftp.jp.debian.org/debian/pool/main/g/golang-github-containers-common/golang-github-containers-common_0.33.4+ds1-1+deb11u1_all.deb && apt install ./golang-github-containers-common_0.33.4+ds1-1+deb11u1_all.deb && ./golang-github-containers-common_0.33.4+ds1-1+deb11u1_all.deb"
      ],
      "metadata": {
        "id": "jF2WbBRZ3GyF"
      },
      "execution_count": null,
      "outputs": []
    },
    {
      "cell_type": "code",
      "source": [
        "!wget http://ftp.jp.debian.org/debian/pool/main/s/skopeo/skopeo_1.2.2+dfsg1-1+b6_amd64.deb && apt install ./skopeo_1.2.2+dfsg1-1+b6_amd64.deb && ./skopeo_1.2.2+dfsg1-1+b6_amd64.deb"
      ],
      "metadata": {
        "id": "6aVjxFyG0rTP"
      },
      "execution_count": null,
      "outputs": []
    },
    {
      "cell_type": "markdown",
      "source": [],
      "metadata": {
        "id": "hVlfREjQ35Yz"
      }
    },
    {
      "cell_type": "code",
      "execution_count": null,
      "metadata": {
        "id": "VZd69Xm0ojJy"
      },
      "outputs": [],
      "source": [
        "!pip install tern"
      ]
    },
    {
      "cell_type": "code",
      "source": [
        "!tern report -o tern_alpine-lates_output.txt -i docker.io/alpine:latest"
      ],
      "metadata": {
        "id": "CCfYOeDQ5iSp"
      },
      "execution_count": null,
      "outputs": []
    },
    {
      "cell_type": "code",
      "source": [
        "!tern report -f spdxjson -o tern_alpine-latest_spdx.json -i docker.io/alpine:latest"
      ],
      "metadata": {
        "id": "5SZuoQDZhrym"
      },
      "execution_count": null,
      "outputs": []
    },
    {
      "cell_type": "code",
      "source": [
        "!cat tern_alpine-latest_spdx.json | jq"
      ],
      "metadata": {
        "id": "pKx6KJekivO_"
      },
      "execution_count": null,
      "outputs": []
    },
    {
      "cell_type": "code",
      "source": [],
      "metadata": {
        "id": "YKuYRu8Nq3oE"
      },
      "execution_count": null,
      "outputs": []
    }
  ],
  "metadata": {
    "colab": {
      "provenance": [],
      "mount_file_id": "1wESiVDyWOw70wnRPndxcnyTI6RsV0_9m",
      "authorship_tag": "ABX9TyOZkViuEhCeM1jcizGc7SSl",
      "include_colab_link": true
    },
    "kernelspec": {
      "display_name": "Python 3",
      "name": "python3"
    },
    "language_info": {
      "name": "python"
    }
  },
  "nbformat": 4,
  "nbformat_minor": 0
}